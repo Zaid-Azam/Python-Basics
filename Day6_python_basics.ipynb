{
  "nbformat": 4,
  "nbformat_minor": 0,
  "metadata": {
    "colab": {
      "provenance": [],
      "collapsed_sections": [
        "gYW4Cb9Yj4mG",
        "Uu-W6PkXrLI7"
      ],
      "authorship_tag": "ABX9TyP6YT22/UxzpmY6CSpl4FXA",
      "include_colab_link": true
    },
    "kernelspec": {
      "name": "python3",
      "display_name": "Python 3"
    },
    "language_info": {
      "name": "python"
    }
  },
  "cells": [
    {
      "cell_type": "markdown",
      "metadata": {
        "id": "view-in-github",
        "colab_type": "text"
      },
      "source": [
        "<a href=\"https://colab.research.google.com/github/Zaid-Azam/Python-Basics/blob/main/Day6_python_basics.ipynb\" target=\"_parent\"><img src=\"https://colab.research.google.com/assets/colab-badge.svg\" alt=\"Open In Colab\"/></a>"
      ]
    },
    {
      "cell_type": "markdown",
      "source": [],
      "metadata": {
        "id": "uQDmOvTHTJME"
      }
    },
    {
      "cell_type": "markdown",
      "source": [
        "# **Tuple:**"
      ],
      "metadata": {
        "id": "gYW4Cb9Yj4mG"
      }
    },
    {
      "cell_type": "markdown",
      "source": [
        "\n",
        "\n",
        "\n",
        "*   It is a type of data structure.\n",
        "*   A container where we can store different values/multiple pieces of information.\n",
        "*   Similar to lists but there are few differences.\n",
        "*   Key differences b/w tuples and lists:\n",
        "1.   For lists we use [ ], and for tuples we use ( )\n",
        "2.   Lists are mutable, means we can mutate/modify the values or elements inside a list. While, tuples are immutable.\n",
        "3.   Use tupples for data that's never going to change.\n",
        "*   How to introduce a Tuple: Tupple_name = ( )\n",
        "                    example: coordinates = (4, 5)\n",
        "   \n",
        "\n",
        "\n",
        "\n",
        "\n",
        "\n",
        "\n",
        "\n",
        "\n"
      ],
      "metadata": {
        "id": "QTTCIOg7j9ac"
      }
    },
    {
      "cell_type": "code",
      "execution_count": null,
      "metadata": {
        "colab": {
          "base_uri": "https://localhost:8080/",
          "height": 245
        },
        "id": "uGo98i55iHNl",
        "outputId": "bbc770d7-e2ed-410b-cdf4-3def777e24a3"
      },
      "outputs": [
        {
          "output_type": "stream",
          "name": "stdout",
          "text": [
            "(5, 6)\n",
            "6\n"
          ]
        },
        {
          "output_type": "error",
          "ename": "TypeError",
          "evalue": "'tuple' object does not support item assignment",
          "traceback": [
            "\u001b[0;31m---------------------------------------------------------------------------\u001b[0m",
            "\u001b[0;31mTypeError\u001b[0m                                 Traceback (most recent call last)",
            "\u001b[0;32m<ipython-input-5-6ce031baae64>\u001b[0m in \u001b[0;36m<cell line: 0>\u001b[0;34m()\u001b[0m\n\u001b[1;32m      7\u001b[0m \u001b[0;34m\u001b[0m\u001b[0m\n\u001b[1;32m      8\u001b[0m \u001b[0;31m# show that tuple is immutable, by trying to modify or replace a value in a tuple and see.\u001b[0m\u001b[0;34m\u001b[0m\u001b[0;34m\u001b[0m\u001b[0m\n\u001b[0;32m----> 9\u001b[0;31m \u001b[0mcoordinates\u001b[0m\u001b[0;34m[\u001b[0m\u001b[0;36m1\u001b[0m\u001b[0;34m]\u001b[0m\u001b[0;34m=\u001b[0m \u001b[0;36m10\u001b[0m\u001b[0;34m\u001b[0m\u001b[0;34m\u001b[0m\u001b[0m\n\u001b[0m\u001b[1;32m     10\u001b[0m \u001b[0mprint\u001b[0m\u001b[0;34m(\u001b[0m\u001b[0mcoordinates\u001b[0m\u001b[0;34m)\u001b[0m\u001b[0;34m\u001b[0m\u001b[0;34m\u001b[0m\u001b[0m\n\u001b[1;32m     11\u001b[0m \u001b[0;34m\u001b[0m\u001b[0m\n",
            "\u001b[0;31mTypeError\u001b[0m: 'tuple' object does not support item assignment"
          ]
        }
      ],
      "source": [
        "# create a tuple. And the most common example is coordinates.\n",
        "coordinates = (5, 6)\n",
        "print(coordinates)\n",
        "\n",
        "# print the coordinate at index 1\n",
        "print(coordinates[1])\n",
        "\n",
        "# show that tuple is immutable, by trying to modify or replace a value in a tuple and see.\n",
        "coordinates[1]= 10\n",
        "print(coordinates)"
      ]
    },
    {
      "cell_type": "code",
      "source": [
        "# add a list of tuples.\n",
        "coordinates = [(3, 4), (5, 6), (7, 8)]  # note: these tuples can't be modified.\n",
        "print(coordinates)"
      ],
      "metadata": {
        "colab": {
          "base_uri": "https://localhost:8080/"
        },
        "id": "N5Kzc4pgqWLD",
        "outputId": "39c86d05-8c0b-4e90-b8c8-b5377a7f22a2"
      },
      "execution_count": null,
      "outputs": [
        {
          "output_type": "stream",
          "name": "stdout",
          "text": [
            "[(3, 4), (5, 6), (7, 8)]\n"
          ]
        }
      ]
    },
    {
      "cell_type": "markdown",
      "source": [
        "# **Functions:**"
      ],
      "metadata": {
        "id": "Uu-W6PkXrLI7"
      }
    },
    {
      "cell_type": "markdown",
      "source": [
        "\n",
        "\n",
        "*   A collection of codes which perform a specific task.\n",
        "*   It is a good idea to break up the code into different functions.\n",
        "\n",
        "\n"
      ],
      "metadata": {
        "id": "1VJAYXDqSaDD"
      }
    },
    {
      "cell_type": "code",
      "source": [
        "# create a function that says Hi to the user.\n",
        "\n",
        "def say_hi():    # what's this doing? It is saying to python, all the code that comes after this line is going to be inside of our function.\n",
        "  print(\"Hi, User\")\n",
        "  # to write the code inside the function we have indent it.\n",
        "  # Note: Inside a function you can have as many lines of code as you want.\n",
        "  # to execute the code inside of this function, do something known as calling the function.\n",
        "  # running the program without calling it, nothing will happen.\n",
        "\n",
        "say_hi()  #calling the function."
      ],
      "metadata": {
        "id": "31eV9CWVrP2s",
        "colab": {
          "base_uri": "https://localhost:8080/"
        },
        "outputId": "6ea3f83a-7529-4642-9b8e-a28cadc047d3"
      },
      "execution_count": null,
      "outputs": [
        {
          "output_type": "stream",
          "name": "stdout",
          "text": [
            "Hi, User\n"
          ]
        }
      ]
    },
    {
      "cell_type": "code",
      "source": [
        "#show flow of fuctions in a program.\n",
        "\n",
        "def say_hi():\n",
        "    print(\"Hi, User\")\n",
        "\n",
        "def sayhi():\n",
        "  print(\"Welcome!\")\n",
        "\n",
        "print(\"Top\")\n",
        "say_hi()\n",
        "print(\"Middle\")\n",
        "sayhi()\n",
        "print(\"Bottom\")\n"
      ],
      "metadata": {
        "colab": {
          "base_uri": "https://localhost:8080/"
        },
        "id": "eXyOEQbZbprK",
        "outputId": "dac66e1b-ea6a-4f3f-927a-2f10f20867f5"
      },
      "execution_count": null,
      "outputs": [
        {
          "output_type": "stream",
          "name": "stdout",
          "text": [
            "Top\n",
            "Hi, User\n",
            "Middle\n",
            "Welcome!\n",
            "Bottom\n"
          ]
        }
      ]
    },
    {
      "cell_type": "code",
      "source": [
        "# make fuctions more powerful by giving them information. Do this when we are going to have additional information that gets passed in.\n",
        "# Parameter: A piece of information that we give to the function.\n",
        "\n",
        "def say_hi(name):\n",
        "    print(\"Hi, \" + name + \"!\")\n",
        "\n",
        "say_hi(\"Zaid\")\n",
        "say_hi(\"Usaid\")\n"
      ],
      "metadata": {
        "colab": {
          "base_uri": "https://localhost:8080/"
        },
        "id": "QvuKz-KhdQ2l",
        "outputId": "169798d5-4b97-4143-c0fd-6ed54a76e3a0"
      },
      "execution_count": null,
      "outputs": [
        {
          "output_type": "stream",
          "name": "stdout",
          "text": [
            "Hi, Zaid!\n",
            "Hi, Usaid!\n"
          ]
        }
      ]
    },
    {
      "cell_type": "code",
      "source": [
        "# pass two parameters to the function.\n",
        "# We can include more than one parameter. Parameter is basically the information we provide to the function.\n",
        "\n",
        "def say_hi(name, age):\n",
        "    print(\"Hi \" + name + \", are you \" + age + \" ?\" )\n",
        "\n",
        "say_hi(\"Zaid\", \"30\")\n",
        "say_hi(\"Usaid\", \"28\")\n",
        "\n",
        "# you can pass any type of data into a function.\n"
      ],
      "metadata": {
        "colab": {
          "base_uri": "https://localhost:8080/"
        },
        "id": "x4rLJyG-eq8z",
        "outputId": "c40e1f5d-aba4-4ad4-a7fe-e1ad5c339566"
      },
      "execution_count": null,
      "outputs": [
        {
          "output_type": "stream",
          "name": "stdout",
          "text": [
            "Hi Zaid, are you 30 ?\n",
            "Hi Usaid, are you 28 ?\n"
          ]
        }
      ]
    },
    {
      "cell_type": "code",
      "source": [
        "def say_hi(name, age):\n",
        "    print(\"Hi \" + name + \", are you \" + str(age) + \" ?\" )\n",
        "# use number value\n",
        "say_hi(\"Zaid\", 30)\n",
        "say_hi(\"Usaid\", 28)"
      ],
      "metadata": {
        "colab": {
          "base_uri": "https://localhost:8080/"
        },
        "id": "xBe7jdjeghQJ",
        "outputId": "70e3f255-886d-4981-c823-5ba7347898d2"
      },
      "execution_count": null,
      "outputs": [
        {
          "output_type": "stream",
          "name": "stdout",
          "text": [
            "Hi Zaid, are you 30 ?\n",
            "Hi Usaid, are you 28 ?\n"
          ]
        }
      ]
    },
    {
      "cell_type": "markdown",
      "source": [
        "# **Return Statement:**\n",
        "\n",
        "*   A lot of time when we call a python function, it does it's thing.\n",
        "*   But sometimes when we call a function, we are actually goint to get information back from that function.\n",
        "*   And that's where the 'return' key word allow python to return the information from a function.\n",
        "\n",
        "\n",
        "\n",
        "\n"
      ],
      "metadata": {
        "id": "_SZ4qvbQhWQa"
      }
    },
    {
      "cell_type": "code",
      "source": [
        "# create a function the cubes a number\n",
        "\n",
        "def cube(num):\n",
        "  num*num*num\n",
        "\n",
        "cube(4)\n",
        "# note: you will see nothing has happened.\n",
        "\n",
        "#let's use print\n",
        "print(cube(4))"
      ],
      "metadata": {
        "colab": {
          "base_uri": "https://localhost:8080/"
        },
        "id": "RiLxdbv1ha94",
        "outputId": "abc8db55-34e6-468f-ad1f-e178287dea53"
      },
      "execution_count": null,
      "outputs": [
        {
          "output_type": "stream",
          "name": "stdout",
          "text": [
            "None\n"
          ]
        }
      ]
    },
    {
      "cell_type": "code",
      "source": [
        "# now create a function that cubes a number and also get the result/ return value using 'return'\n",
        "\n",
        "def cube(num):\n",
        "  return num*num*num\n",
        "\n",
        "cube(3)\n",
        "cube(5)\n",
        "cube(4)\n",
        "# Question: Why is only giving cube of single number, and single and last entry?"
      ],
      "metadata": {
        "colab": {
          "base_uri": "https://localhost:8080/"
        },
        "id": "EE20MvxynDpo",
        "outputId": "dd3965d9-efe2-481b-e6b5-3ebc7419bd07"
      },
      "execution_count": null,
      "outputs": [
        {
          "output_type": "execute_result",
          "data": {
            "text/plain": [
              "64"
            ]
          },
          "metadata": {},
          "execution_count": 32
        }
      ]
    },
    {
      "cell_type": "code",
      "source": [
        "# solution to the above question is in using print function.\n",
        "def cube(num):\n",
        "  return num*num*num\n",
        "\n",
        "print(cube(3))\n",
        "print(cube(5))\n",
        "print(cube(4))"
      ],
      "metadata": {
        "colab": {
          "base_uri": "https://localhost:8080/"
        },
        "id": "7aaevfC-oriW",
        "outputId": "c0208a68-7966-4761-a076-2f004b8717eb"
      },
      "execution_count": null,
      "outputs": [
        {
          "output_type": "stream",
          "name": "stdout",
          "text": [
            "27\n",
            "125\n",
            "64\n"
          ]
        }
      ]
    },
    {
      "cell_type": "code",
      "source": [
        "# use variable 'result'\n",
        "\n",
        "\n",
        "def cube(num):\n",
        "  return num*num*num\n",
        "\n",
        "result = cube(3) # This variable is going to store the value that gets returned from the cube function.\n",
        "\n",
        "print(result)\n",
        "\n"
      ],
      "metadata": {
        "colab": {
          "base_uri": "https://localhost:8080/"
        },
        "id": "WVnj4FRgpVFM",
        "outputId": "f110502d-1a82-418b-d31c-0a0b42c08364"
      },
      "execution_count": null,
      "outputs": [
        {
          "output_type": "stream",
          "name": "stdout",
          "text": [
            "27\n"
          ]
        }
      ]
    },
    {
      "cell_type": "markdown",
      "source": [
        "Note: Using the return key word, actually breaks us out of the function. So, we will never be able to reach the line of code after that.\n"
      ],
      "metadata": {
        "id": "8DBo9br8rvpy"
      }
    },
    {
      "cell_type": "code",
      "source": [
        "# Example:\n",
        "def cube(num):\n",
        "   return num*num*num\n",
        "   print(\"This will not be printed\")\n",
        "\n",
        "result = cube(6) # This variable is going to store the value that gets returned from the cube function.\n",
        "\n",
        "print(result)"
      ],
      "metadata": {
        "colab": {
          "base_uri": "https://localhost:8080/"
        },
        "id": "hEFfRNw1sh-L",
        "outputId": "109b94c9-8356-402b-8cd3-853b2ff1d6f4"
      },
      "execution_count": null,
      "outputs": [
        {
          "output_type": "stream",
          "name": "stdout",
          "text": [
            "216\n"
          ]
        }
      ]
    },
    {
      "cell_type": "code",
      "source": [
        "# print both codes using 'return' key word\n",
        "\n",
        "def cube(num):\n",
        "   print(\"This will be printed\")\n",
        "   return num*num*num\n",
        "\n",
        "result = cube(6)\n",
        "print(result)\n"
      ],
      "metadata": {
        "colab": {
          "base_uri": "https://localhost:8080/"
        },
        "id": "CfePCXtftcoe",
        "outputId": "d7445349-a0fc-4af0-8286-70b937e123e3"
      },
      "execution_count": null,
      "outputs": [
        {
          "output_type": "stream",
          "name": "stdout",
          "text": [
            "This will not be printed\n",
            "216\n"
          ]
        }
      ]
    },
    {
      "cell_type": "code",
      "source": [
        "# another way:\n",
        "\n",
        "def cube(num):\n",
        "   result = num*num*num\n",
        "   print(\"This will be printed\")\n",
        "   return result\n",
        "\n",
        "print(cube(6))"
      ],
      "metadata": {
        "colab": {
          "base_uri": "https://localhost:8080/"
        },
        "id": "IWL4WFPWvD_S",
        "outputId": "990b8099-bf45-4aae-b068-8e09d1da10d8"
      },
      "execution_count": null,
      "outputs": [
        {
          "output_type": "stream",
          "name": "stdout",
          "text": [
            "This will be printed\n",
            "216\n"
          ]
        }
      ]
    }
  ]
}