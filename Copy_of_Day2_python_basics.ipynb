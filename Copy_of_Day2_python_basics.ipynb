{
  "nbformat": 4,
  "nbformat_minor": 0,
  "metadata": {
    "colab": {
      "provenance": [],
      "authorship_tag": "ABX9TyNmOczzLLWVkb50BPU9zsYB",
      "include_colab_link": true
    },
    "kernelspec": {
      "name": "python3",
      "display_name": "Python 3"
    },
    "language_info": {
      "name": "python"
    }
  },
  "cells": [
    {
      "cell_type": "markdown",
      "metadata": {
        "id": "view-in-github",
        "colab_type": "text"
      },
      "source": [
        "<a href=\"https://colab.research.google.com/github/Zaid-Azam/Python-Basics/blob/main/Copy_of_Day2_python_basics.ipynb\" target=\"_parent\"><img src=\"https://colab.research.google.com/assets/colab-badge.svg\" alt=\"Open In Colab\"/></a>"
      ]
    },
    {
      "cell_type": "code",
      "execution_count": null,
      "metadata": {
        "id": "Y1Sso1Jdq0mV"
      },
      "outputs": [],
      "source": []
    },
    {
      "cell_type": "code",
      "source": [
        "print(\"Hello, World!\")"
      ],
      "metadata": {
        "colab": {
          "base_uri": "https://localhost:8080/"
        },
        "id": "BsP19cnotbHR",
        "outputId": "d6f1481a-edca-44a6-c3ec-33a7397daedc"
      },
      "execution_count": null,
      "outputs": [
        {
          "output_type": "stream",
          "name": "stdout",
          "text": [
            "Hello, World!\n"
          ]
        }
      ]
    },
    {
      "cell_type": "code",
      "source": [
        "# Drawing a triangle using print function.\n",
        "print(\"   /|\")\n",
        "print(\"  / |\")\n",
        "print(\" /  |\")\n",
        "print(\"/___|\")"
      ],
      "metadata": {
        "colab": {
          "base_uri": "https://localhost:8080/"
        },
        "id": "aJaagzwduoc6",
        "outputId": "e42d56bd-0ee4-4053-ada7-8c7645c48b65"
      },
      "execution_count": null,
      "outputs": [
        {
          "output_type": "stream",
          "name": "stdout",
          "text": [
            "   /|\n",
            "  / |\n",
            " /  |\n",
            "/___|\n"
          ]
        }
      ]
    },
    {
      "cell_type": "code",
      "source": [
        "# example of why the order of instructions matters.\n",
        "print(\"/___|\")\n",
        "print(\"   /|\")\n",
        "print(\"  / |\")\n",
        "print(\" /  |\")\n"
      ],
      "metadata": {
        "colab": {
          "base_uri": "https://localhost:8080/"
        },
        "id": "RkbOBOjbu60A",
        "outputId": "f7a7cc23-195d-4ecc-c874-1b910d147f5f"
      },
      "execution_count": null,
      "outputs": [
        {
          "output_type": "stream",
          "name": "stdout",
          "text": [
            "/___|\n",
            "   /|\n",
            "  / |\n",
            " /  |\n"
          ]
        }
      ]
    },
    {
      "cell_type": "code",
      "source": [
        "# Writing my short story.\n",
        "print(\"I am Zaid Azam.\")\n",
        "print(\"My Age is 30.\")\n",
        "print(\"I am trying to learn Python.\")\n",
        "print(\"My life goal is to become top tier AI driven Data Scientist.\")"
      ],
      "metadata": {
        "colab": {
          "base_uri": "https://localhost:8080/"
        },
        "id": "-BPtRp5421vu",
        "outputId": "e36ffd8f-a779-4f6d-e131-ad135b9b0f25"
      },
      "execution_count": null,
      "outputs": [
        {
          "output_type": "stream",
          "name": "stdout",
          "text": [
            "I am Zaid Azam.\n",
            "My Age is 30.\n",
            "I am trying to learn Python.\n",
            "My life goal is to become top tier AI driven Data Scientist.\n"
          ]
        }
      ]
    },
    {
      "cell_type": "code",
      "source": [
        "# writing multiple strings in a single print function using ','\n",
        "print(\"I am Zaid Azam.\",\"My Age is 30.\",\"I am trying to learn Python.\",\"My life goal is to become top tier AI driven Data Scientist.\")"
      ],
      "metadata": {
        "colab": {
          "base_uri": "https://localhost:8080/"
        },
        "id": "Zw2w10sM30bA",
        "outputId": "ac6cb2bc-3623-482c-b90c-9376426dc005"
      },
      "execution_count": null,
      "outputs": [
        {
          "output_type": "stream",
          "name": "stdout",
          "text": [
            "I am Zaid Azam. My Age is 30. I am trying to learn Python. My life goal is to become top tier AI driven Data Scientist.\n"
          ]
        }
      ]
    },
    {
      "cell_type": "code",
      "source": [
        "# other way of writing multiple string in print function using '+' sign\n",
        "print(\"I am Zaid Azam.\"+\"My Age is 30.\"+\"I am trying to learn Python.\"+\"My life goal is to become top tier AI driven Data Scientist.\")"
      ],
      "metadata": {
        "colab": {
          "base_uri": "https://localhost:8080/"
        },
        "id": "WrQP-bhE4xt3",
        "outputId": "c8f54d15-7c64-493d-d547-5ac4168aebe8"
      },
      "execution_count": null,
      "outputs": [
        {
          "output_type": "stream",
          "name": "stdout",
          "text": [
            "I am Zaid Azam.My Age is 30.I am trying to learn Python.My life goal is to become top tier AI driven Data Scientist.\n"
          ]
        }
      ]
    },
    {
      "cell_type": "code",
      "source": [
        "#correcting the space after full stop.\n",
        "print(\"I am Zaid Azam.\" + \"My Age is 30.\" + \"I am trying to learn Python.\" + \"My life goal is to become top tier AI driven Data Scientist.\")"
      ],
      "metadata": {
        "colab": {
          "base_uri": "https://localhost:8080/"
        },
        "id": "ZyIsdVq65RtY",
        "outputId": "231e2062-f2c2-4e6e-88fb-58760cc6d6d0"
      },
      "execution_count": null,
      "outputs": [
        {
          "output_type": "stream",
          "name": "stdout",
          "text": [
            "I am Zaid Azam.My Age is 30.I am trying to learn Python.My life goal is to become top tier AI driven Data Scientist.\n"
          ]
        }
      ]
    },
    {
      "cell_type": "code",
      "source": [
        "# trying again to add the spaces after periods in printed strings\n",
        "print(\"I am Zaid Azam. \"+\"My Age is 30. \"+\"I am trying to learn Python. \"+\"My life goal is to become top tier AI driven Data Scientist.\")"
      ],
      "metadata": {
        "colab": {
          "base_uri": "https://localhost:8080/"
        },
        "id": "aPHl-VyO59sU",
        "outputId": "07fa3d6a-ee65-4932-dfa9-6eebce494444"
      },
      "execution_count": null,
      "outputs": [
        {
          "output_type": "stream",
          "name": "stdout",
          "text": [
            "I am Zaid Azam. My Age is 30. I am trying to learn Python. My life goal is to become top tier AI driven Data Scientist.\n"
          ]
        }
      ]
    },
    {
      "cell_type": "markdown",
      "source": [
        "# **Variables and Basic Data** **Types**"
      ],
      "metadata": {
        "id": "CEAh9DFx6287"
      }
    },
    {
      "cell_type": "markdown",
      "source": [
        "Now, what if, character name such as Zaid Azam or the age of the character changes or in different scenarios one may be asked to change any thing in one's code. So, it would be difficult or time consuming to change each line of code. Here comes the variable for this kind of scenerios.\n",
        "## A **variable** is like a container in our program which store data of different types."
      ],
      "metadata": {
        "id": "ELVdP18bYM-k"
      }
    },
    {
      "cell_type": "code",
      "source": [
        "# Introduce variable for characters name and age\n",
        "character_name = \"Zaid Azam\"\n",
        "character_age = \"30\"\n",
        "print(\"I am\", character_name , \"My Age is\", character_age,\"I am trying to learn Python.\",\"My life goal is to become top tier AI driven Data Scientist.\")"
      ],
      "metadata": {
        "colab": {
          "base_uri": "https://localhost:8080/"
        },
        "id": "BpPlihYpadWv",
        "outputId": "cf2be868-2738-47d1-a379-d53b41ed372c"
      },
      "execution_count": null,
      "outputs": [
        {
          "output_type": "stream",
          "name": "stdout",
          "text": [
            "I am Zaid Azam My Age is 30 I am trying to learn Python. My life goal is to become top tier AI driven Data Scientist.\n"
          ]
        }
      ]
    },
    {
      "cell_type": "code",
      "source": [
        "# Note that the sentences run together because there's no period after \"Zaid Azam\" or \"30\". Here's how to fix that:\n",
        "\n",
        "# Method 1: Modify the strings within the print() function\n",
        "# We add + \".\" after both character_name and character_age inside the print() function.\n",
        "# This concatenates (joins) the variable's value with a period, creating the desired sentence structure.\n",
        "character_name = \"Zaid Azam\"\n",
        "character_age = 30 # we don't need to write it in appostrophe.\n",
        "print(\"I am\", character_name+\".\", \"My Age is\", character_age+\".\", \"I am trying to learn Python.\",\"My life goal is to become top tier AI driven Data Scientist.\")"
      ],
      "metadata": {
        "colab": {
          "base_uri": "https://localhost:8080/",
          "height": 193
        },
        "id": "Qmrq7BOidyQ-",
        "outputId": "787d265d-8321-48d8-c456-9619aec03e45"
      },
      "execution_count": null,
      "outputs": [
        {
          "output_type": "error",
          "ename": "TypeError",
          "evalue": "unsupported operand type(s) for +: 'int' and 'str'",
          "traceback": [
            "\u001b[0;31m---------------------------------------------------------------------------\u001b[0m",
            "\u001b[0;31mTypeError\u001b[0m                                 Traceback (most recent call last)",
            "\u001b[0;32m<ipython-input-3-9686a66300b9>\u001b[0m in \u001b[0;36m<cell line: 0>\u001b[0;34m()\u001b[0m\n\u001b[1;32m      6\u001b[0m \u001b[0mcharacter_name\u001b[0m \u001b[0;34m=\u001b[0m \u001b[0;34m\"Zaid Azam\"\u001b[0m\u001b[0;34m\u001b[0m\u001b[0;34m\u001b[0m\u001b[0m\n\u001b[1;32m      7\u001b[0m \u001b[0mcharacter_age\u001b[0m \u001b[0;34m=\u001b[0m \u001b[0;36m30\u001b[0m \u001b[0;31m# we don't need to write it in appostrophe.\u001b[0m\u001b[0;34m\u001b[0m\u001b[0;34m\u001b[0m\u001b[0m\n\u001b[0;32m----> 8\u001b[0;31m \u001b[0mprint\u001b[0m\u001b[0;34m(\u001b[0m\u001b[0;34m\"I am\"\u001b[0m\u001b[0;34m,\u001b[0m \u001b[0mcharacter_name\u001b[0m\u001b[0;34m+\u001b[0m\u001b[0;34m\".\"\u001b[0m\u001b[0;34m,\u001b[0m \u001b[0;34m\"My Age is\"\u001b[0m\u001b[0;34m,\u001b[0m \u001b[0mcharacter_age\u001b[0m\u001b[0;34m+\u001b[0m\u001b[0;34m\".\"\u001b[0m\u001b[0;34m,\u001b[0m \u001b[0;34m\"I am trying to learn Python.\"\u001b[0m\u001b[0;34m,\u001b[0m\u001b[0;34m\"My life goal is to become top tier AI driven Data Scientist.\"\u001b[0m\u001b[0;34m)\u001b[0m\u001b[0;34m\u001b[0m\u001b[0;34m\u001b[0m\u001b[0m\n\u001b[0m",
            "\u001b[0;31mTypeError\u001b[0m: unsupported operand type(s) for +: 'int' and 'str'"
          ]
        }
      ]
    },
    {
      "cell_type": "markdown",
      "source": [
        "**Error:** The error message \"TypeError: unsupported operand type(s) for +: 'int' and 'str'\" indicates that you're trying to use the + operator to combine an integer and a string directly, which Python doesn't allow.\n",
        "\n",
        "In your code, character_age is an integer (30), and you're attempting to concatenate it with a string (\".\") using + in the print function.\n",
        "\n",
        "**Solution**: To fix this, you need to convert the integer to a string before concatenating it.\n",
        "\n",
        "\n"
      ],
      "metadata": {
        "id": "Q_ipLNtxfY7A"
      }
    },
    {
      "cell_type": "code",
      "source": [
        "#\n",
        "character_name = \"Zaid Azam\"\n",
        "character_age = 30\n",
        "print(\"I am\", character_name + \".\", \"My Age is\", str(\"character_age\") + \".\", \"I am trying to learn Python.\",\"My life goal is to become top tier AI driven Data Scientist.\")"
      ],
      "metadata": {
        "colab": {
          "base_uri": "https://localhost:8080/"
        },
        "id": "PFbxVTxdgL0I",
        "outputId": "84cc77e2-ee8d-4c06-a164-8bc5f655d760"
      },
      "execution_count": null,
      "outputs": [
        {
          "output_type": "stream",
          "name": "stdout",
          "text": [
            "I am Zaid Azam. My Age is character_age. I am trying to learn Python. My life goal is to become top tier AI driven Data Scientist.\n"
          ]
        }
      ]
    },
    {
      "cell_type": "code",
      "source": [
        "# In above case I did not get exact value age, now let's try again by removing appostrphe in str function\n",
        "character_name = \"Zaid Azam\"\n",
        "character_age = \"30\"\n",
        "print(\"I am\", character_name + \".\", \"My Age is\", str(character_age) + \".\", \"I am trying to learn Python.\",\"My life goal is to become top tier AI driven Data Scientist.\")"
      ],
      "metadata": {
        "colab": {
          "base_uri": "https://localhost:8080/"
        },
        "id": "k_trVuyUi_J_",
        "outputId": "d754dc07-46f5-4ca9-fe2d-42bccb8881b0"
      },
      "execution_count": null,
      "outputs": [
        {
          "output_type": "stream",
          "name": "stdout",
          "text": [
            "I am Zaid Azam. My Age is 30. I am trying to learn Python. My life goal is to become top tier AI driven Data Scientist.\n"
          ]
        }
      ]
    },
    {
      "cell_type": "markdown",
      "source": [
        "**Summary about variable (int or float) and string function:**\n",
        "Don't use apostrophes/quotes around the variable name inside str() when you want to access the variable's value.\n",
        "Use quotes only when you want to create a literal string (e.g., \"Hello\")."
      ],
      "metadata": {
        "id": "z1K4MEoIk--O"
      }
    },
    {
      "cell_type": "code",
      "source": [
        "character_name = \"Zaid Azam\"\n",
        "character_age = 30\n",
        "print(\"I am\" + character_name + \".\")\n",
        "print(\"My Age\" + str(character_age) + \".\")\n",
        "print(\"I am trying to learn Python.\")\n",
        "print(\"My life goal is to become top tier AI driven Data Scientist.\")"
      ],
      "metadata": {
        "colab": {
          "base_uri": "https://localhost:8080/"
        },
        "id": "O1VNu5BLn56v",
        "outputId": "386ce5df-8a3a-4d94-91bf-68d4e85dd2b6"
      },
      "execution_count": null,
      "outputs": [
        {
          "output_type": "stream",
          "name": "stdout",
          "text": [
            "I amZaid Azam.\n",
            "My Age30.\n",
            "I am trying to learn Python.\n",
            "My life goal is to become top tier AI driven Data Scientist.\n"
          ]
        }
      ]
    },
    {
      "cell_type": "code",
      "source": [
        "# debugging\n",
        "character_name = \"Zaid Azam\"\n",
        "character_age = 30\n",
        "print(\"I am \" + character_name + \".\")\n",
        "print(\"My Age is \" + str(character_age) + \".\")\n",
        "print(\"I am trying to learn Python.\")\n",
        "print(\"My life goal is to become top tier AI driven Data Scientist.\")"
      ],
      "metadata": {
        "colab": {
          "base_uri": "https://localhost:8080/"
        },
        "id": "PQgWPC5Zogwu",
        "outputId": "7173bd02-19d8-427d-f4fd-e14bcf0744bc"
      },
      "execution_count": null,
      "outputs": [
        {
          "output_type": "stream",
          "name": "stdout",
          "text": [
            "I am Zaid Azam.\n",
            "My Age is 30.\n",
            "I am trying to learn Python.\n",
            "My life goal is to become top tier AI driven Data Scientist.\n"
          ]
        }
      ]
    },
    {
      "cell_type": "code",
      "source": [
        "# change variable\n",
        "character_name = \"FAhad\"\n",
        "character_age = 32\n",
        "print(\"I am \" + character_name + \".\")\n",
        "print(\"My Age is \" + str(character_age) + \".\")\n",
        "print(\"I am trying to learn Python.\")\n",
        "print(\"My life goal is to become top tier AI driven Data Scientist.\")"
      ],
      "metadata": {
        "colab": {
          "base_uri": "https://localhost:8080/"
        },
        "id": "X3ezTdA9ovE_",
        "outputId": "0ab2506a-f636-4671-b79f-d9836e80ab2c"
      },
      "execution_count": null,
      "outputs": [
        {
          "output_type": "stream",
          "name": "stdout",
          "text": [
            "I am FAhad.\n",
            "My Age is 32.\n",
            "I am trying to learn Python.\n",
            "My life goal is to become top tier AI driven Data Scientist.\n"
          ]
        }
      ]
    },
    {
      "cell_type": "code",
      "source": [
        "# using '+' sign writing multiple strings in single print functions and using concept of variables.\n",
        "character_name = \"Zaid Azam\"\n",
        "character_age = 30\n",
        "print(\"I am \" + character_name + \". \" + \"My age is \" + str(character_age) +\". \" + \"I am trying to learn python. \" + \"My life goal is to become a top tier AI driven Data scientist.\")"
      ],
      "metadata": {
        "colab": {
          "base_uri": "https://localhost:8080/"
        },
        "id": "qRaRdQESpCQQ",
        "outputId": "77bafd37-1abf-4e28-9b5d-445517ddc6ce"
      },
      "execution_count": null,
      "outputs": [
        {
          "output_type": "stream",
          "name": "stdout",
          "text": [
            "I am Zaid Azam. My age is 30. I am trying to learn python. My life goal is to become a top tier AI driven Data scientist.\n"
          ]
        }
      ]
    }
  ]
}