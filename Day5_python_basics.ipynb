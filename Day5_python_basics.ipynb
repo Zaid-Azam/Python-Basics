{
  "nbformat": 4,
  "nbformat_minor": 0,
  "metadata": {
    "colab": {
      "provenance": [],
      "authorship_tag": "ABX9TyNoP+H6s0+LUlFZMNVdefML",
      "include_colab_link": true
    },
    "kernelspec": {
      "name": "python3",
      "display_name": "Python 3"
    },
    "language_info": {
      "name": "python"
    }
  },
  "cells": [
    {
      "cell_type": "markdown",
      "metadata": {
        "id": "view-in-github",
        "colab_type": "text"
      },
      "source": [
        "<a href=\"https://colab.research.google.com/github/Zaid-Azam/Python-Basics/blob/main/Day5_python_basics.ipynb\" target=\"_parent\"><img src=\"https://colab.research.google.com/assets/colab-badge.svg\" alt=\"Open In Colab\"/></a>"
      ]
    },
    {
      "cell_type": "markdown",
      "source": [
        "# **Getting input from users:**"
      ],
      "metadata": {
        "id": "nTs6Re-pQwdw"
      }
    },
    {
      "cell_type": "code",
      "source": [
        "# Ask user their name and say Hello.\n",
        "name=input(\"Whats your name? \")\n",
        "print(\"Hello, \" + name + \"!\")"
      ],
      "metadata": {
        "colab": {
          "base_uri": "https://localhost:8080/"
        },
        "id": "lDJ0Yg84RErT",
        "outputId": "1b7de863-3183-4aa7-9e86-73d631a3271b"
      },
      "execution_count": null,
      "outputs": [
        {
          "output_type": "stream",
          "name": "stdout",
          "text": [
            "Whats your name? Zaid\n",
            "Hello, Zaid!\n"
          ]
        }
      ]
    },
    {
      "cell_type": "code",
      "source": [
        "# Ask user their name and age and say whatever you see fit\n",
        "name=input(\"What's your name? \")\n",
        "age=input(\"What's your age? \")\n",
        "print(\"Hey, \" + name + \"! you are \" + age + \", and still you are so funny.\")"
      ],
      "metadata": {
        "colab": {
          "base_uri": "https://localhost:8080/"
        },
        "id": "p9dC9T2HRrzi",
        "outputId": "93adc286-0959-404d-84cd-0fe8a69438b0"
      },
      "execution_count": null,
      "outputs": [
        {
          "output_type": "stream",
          "name": "stdout",
          "text": [
            "What's your name? Junaid\n",
            "What's your age? 65\n",
            "Hey, Junaid! you are 65, and still you are so funny.\n"
          ]
        }
      ]
    },
    {
      "cell_type": "code",
      "source": [
        "# Ask and chat with user\n",
        "name=input(\"What's your name? \")\n",
        "print(\"Nice to meet you, \" + name + \"!\")\n",
        "wish= input(\"What's on your mind? \")\n",
        "print(\"Don't think too much about \" + wish + \".\")"
      ],
      "metadata": {
        "colab": {
          "base_uri": "https://localhost:8080/"
        },
        "id": "WQgdiXlKS2zt",
        "outputId": "f46d257a-5f3a-4334-fe4a-20b16d2345c2"
      },
      "execution_count": null,
      "outputs": [
        {
          "output_type": "stream",
          "name": "stdout",
          "text": [
            "What's your name? Zaid\n",
            "Nice to meet you, Zaid!\n",
            "What's on your mind? failures.\n",
            "Don't think too much about failures..\n"
          ]
        }
      ]
    },
    {
      "cell_type": "code",
      "source": [
        "# write a program where whatever the user text or ask and system generates a msg in reponse showing price of your product or services\n",
        "# show user the price of netflix accounts\n",
        "input(\"\")\n",
        "print(\"Welcome to the cineplax platform. We offer the best rate for netflix screens. Here are our offers:\\n1. 1 momth = 300 per screen.\\n2. 6 months = 1200 per screen.\")"
      ],
      "metadata": {
        "colab": {
          "base_uri": "https://localhost:8080/"
        },
        "id": "9cpFTt4aUPpk",
        "outputId": "4737af51-8f59-46d0-edd3-55fe2b555277"
      },
      "execution_count": null,
      "outputs": [
        {
          "output_type": "stream",
          "name": "stdout",
          "text": [
            "hey i wnat know the price\n",
            "Welcome to the cineplax platform. We offer the best rate for netflix screens. Here are our offers:\n",
            "1. 1 momth = 300 per screen.\n",
            "2. 6 months = 1200 per screen.\n"
          ]
        }
      ]
    },
    {
      "cell_type": "markdown",
      "source": [
        "# Building a basic calculator:"
      ],
      "metadata": {
        "id": "CT3ohwAKb0WQ"
      }
    },
    {
      "cell_type": "code",
      "source": [
        "# build a calcultor that adds two integer number:\n",
        "num1=input(\"Enter an integer number \")\n",
        "num2=input(\"Enter another integer number \")\n",
        "result= int(num1) + int(num2)   # here we have to use int() function to use it as a number/integer, b/c whatever the input number is python will take it as a string by default.\n",
        "print(result)"
      ],
      "metadata": {
        "colab": {
          "base_uri": "https://localhost:8080/"
        },
        "id": "vcDAXjSdb7ZN",
        "outputId": "74b261a6-849b-4479-da86-b2f3b8197c97"
      },
      "execution_count": null,
      "outputs": [
        {
          "output_type": "stream",
          "name": "stdout",
          "text": [
            "Enter an integer number 6\n",
            "Enter another integer number 7\n",
            "13\n"
          ]
        }
      ]
    },
    {
      "cell_type": "code",
      "source": [
        "# build a calcultor that adds any two numbers:\n",
        "num1=input(\"Enter a number \")\n",
        "num2=input(\"Enter another number \")\n",
        "result= float(num1) + float(num2) # here we have to use float() function to use it as a decimal number, b/c whatever the input number will be python will take it as a string by default.\n",
        "print(result)"
      ],
      "metadata": {
        "colab": {
          "base_uri": "https://localhost:8080/"
        },
        "id": "R_fUb_QQdLVo",
        "outputId": "8efccbe8-eff9-4ef9-dcfb-5ba7e53702f2"
      },
      "execution_count": null,
      "outputs": [
        {
          "output_type": "stream",
          "name": "stdout",
          "text": [
            "Enter a number 479364767\n",
            "Enter another number 647863746\n",
            "1127228513.0\n"
          ]
        }
      ]
    },
    {
      "cell_type": "code",
      "source": [
        "# build a calcultor that adds any two numbers:\n",
        "num1=input(\"Enter a number \")\n",
        "num2=input(\"Enter another number \")\n",
        "result= float(num1) + float(num2)\n",
        "print(\"Result: \" + str(result)) # we can only concate string with string not with float or int. That's why I have used str function."
      ],
      "metadata": {
        "colab": {
          "base_uri": "https://localhost:8080/"
        },
        "id": "5gWvBRlDdzRP",
        "outputId": "b3a53fc3-0815-4a9c-e93c-9451e0e1c673"
      },
      "execution_count": null,
      "outputs": [
        {
          "output_type": "stream",
          "name": "stdout",
          "text": [
            "Enter a number 32.34\n",
            "Enter another number 54.23\n",
            "Result: 86.57\n"
          ]
        }
      ]
    },
    {
      "cell_type": "markdown",
      "source": [
        "# **Basics of lists in python:**\n",
        "List allows us to organise bunch of data values and keep track of them.\n"
      ],
      "metadata": {
        "id": "tKEWSSqysAlY"
      }
    },
    {
      "cell_type": "code",
      "source": [
        "#introduce a list and give it a descriptive name. For list we use []\n",
        "friends = [\"Junaid\", \"Fahad\", \"Usaid\"]\n",
        "print(friends)\n",
        "# Data we can put inside a list: It can be strings, numbers, and booleans. Python is fine with that.\n",
        "relatives = [\"Junaid\", \"Fahad\", \"Usaid\", 1, 2, 3, True, False]\n",
        "print(relatives)\n"
      ],
      "metadata": {
        "colab": {
          "base_uri": "https://localhost:8080/"
        },
        "id": "qq1UUMdvsH--",
        "outputId": "5e5886e9-f992-41c7-c3af-7d5a375a1b55"
      },
      "execution_count": null,
      "outputs": [
        {
          "output_type": "stream",
          "name": "stdout",
          "text": [
            "['Junaid', 'Fahad', 'Usaid']\n",
            "['Junaid', 'Fahad', 'Usaid', 1, 2, 3, True, False]\n"
          ]
        }
      ]
    },
    {
      "cell_type": "code",
      "source": [
        "# access individual elements inside of the list:\n",
        "# each element has a particular index. If we want to find or print a specific element we use its index.\n",
        "friends = [\"Junaid\", \"Fahad\", \"Usaid\"]\n",
        "print(friends[0])\n",
        "print(friends[1])\n",
        "print(friends[2])\n",
        "\n",
        "#also access elements from the back or end of the list.\n",
        "print(friends[-1])\n",
        "print(friends[-2])\n",
        "print(friends[-3])\n",
        "\n",
        "#note that here we it starts with -1 not 0 or -0\n",
        "#hence we can access an element from both sides.\n"
      ],
      "metadata": {
        "colab": {
          "base_uri": "https://localhost:8080/"
        },
        "id": "CivA2A68vE_c",
        "outputId": "ede40244-7cd7-4183-b158-410356723686"
      },
      "execution_count": null,
      "outputs": [
        {
          "output_type": "stream",
          "name": "stdout",
          "text": [
            "Junaid\n",
            "Fahad\n",
            "Usaid\n",
            "Usaid\n",
            "Fahad\n",
            "Junaid\n"
          ]
        }
      ]
    },
    {
      "cell_type": "code",
      "source": [
        "# specify the range of elements in the list which needs to be selected.\n",
        "# print from fahad to musaib\n",
        "friends = [\"Junaid\", \"Fahad\", \"Usaid\", \"Musaib\", \"Hamza\"]\n",
        "print(friends[1:4]) # here it won't select or grab index 4 but it means upto index 4\n",
        "\n",
        "# leave junaid and grab the rest to print\n",
        "print(friends[1:])\n",
        "\n",
        "# leave the first two friends\n",
        "print(friends[2:])\n",
        "\n",
        "#leave last two friends and grab the rest\n",
        "print(friends[:3])\n",
        "# you can also print it as\n",
        "print(friends[:-2])\n",
        "\n",
        "# modify a friend's name (at index 2) in the list and select that one to print\n",
        "friends[2] = \"Waleed\"\n",
        "print(friends[2])\n",
        "\n"
      ],
      "metadata": {
        "colab": {
          "base_uri": "https://localhost:8080/"
        },
        "id": "Sr48lt2oxHET",
        "outputId": "4cb43316-22cb-44aa-e546-46dbf92486a5"
      },
      "execution_count": null,
      "outputs": [
        {
          "output_type": "stream",
          "name": "stdout",
          "text": [
            "['Fahad', 'Usaid', 'Musaib']\n",
            "['Fahad', 'Usaid', 'Musaib', 'Hamza']\n",
            "['Usaid', 'Musaib', 'Hamza']\n",
            "['Junaid', 'Fahad', 'Usaid']\n",
            "['Junaid', 'Fahad', 'Usaid']\n",
            "Waleed\n"
          ]
        }
      ]
    },
    {
      "cell_type": "markdown",
      "source": [
        "# **Some Basic List Functions:**"
      ],
      "metadata": {
        "id": "olSxy0CMCFa1"
      }
    },
    {
      "cell_type": "markdown",
      "source": [
        "Extend Function: Extend function basically allows you to take a list and append another list onto the end of it."
      ],
      "metadata": {
        "id": "qJW6xPgAC5TT"
      }
    },
    {
      "cell_type": "code",
      "source": [
        "# use extend function\n",
        "lucky_numbers = [4, 8, 15, 16, 23, 42]\n",
        "friends = [\"Junaid\", \"Fahad\", \"Usaid\", \"Musaib\", \"Hamza\"]\n",
        "friends.extend(lucky_numbers)\n",
        "print(friends)"
      ],
      "metadata": {
        "colab": {
          "base_uri": "https://localhost:8080/"
        },
        "id": "Xc4RUYzLC_XN",
        "outputId": "1c087e22-0b83-4c7f-eb36-ede45202c086"
      },
      "execution_count": null,
      "outputs": [
        {
          "output_type": "stream",
          "name": "stdout",
          "text": [
            "['Junaid', 'Fahad', 'Usaid', 'Musaib', 'Hamza', 4, 8, 15, 16, 23, 42]\n"
          ]
        }
      ]
    },
    {
      "cell_type": "code",
      "source": [
        " # append individual item to the end of the available list uusing append function.\n",
        " # append function is always going to add the item onto the end of the list.\n",
        "friends = [\"Junaid\", \"Fahad\", \"Usaid\", \"Musaib\", \"Hamza\"]\n",
        "friends.append(\"Waleed\")\n",
        "print(friends)\n",
        "\n"
      ],
      "metadata": {
        "id": "A5P4i-2wzpF0",
        "colab": {
          "base_uri": "https://localhost:8080/"
        },
        "outputId": "7a0a6d10-3a4b-4366-b774-af71d26d1c09"
      },
      "execution_count": null,
      "outputs": [
        {
          "output_type": "stream",
          "name": "stdout",
          "text": [
            "['Junaid', 'Fahad', 'Usaid', 'Musaib', 'Hamza', 'Waleed']\n"
          ]
        }
      ]
    },
    {
      "cell_type": "code",
      "source": [
        "# use insert function and add an item some where in between the list.\n",
        "friends = [\"Junaid\", \"Fahad\", \"Usaid\", \"Musaib\", \"Hamza\"]\n",
        "# insert Zaryab at index position 2.\n",
        "friends.insert(2, \"Zaryab\")\n",
        "print(friends)"
      ],
      "metadata": {
        "colab": {
          "base_uri": "https://localhost:8080/"
        },
        "id": "WEYnta-gHjIW",
        "outputId": "b49d741a-8e76-437a-aba6-b7fa723e6570"
      },
      "execution_count": null,
      "outputs": [
        {
          "output_type": "stream",
          "name": "stdout",
          "text": [
            "['Junaid', 'Fahad', 'Zaryab', 'Usaid', 'Musaib', 'Hamza']\n"
          ]
        }
      ]
    },
    {
      "cell_type": "code",
      "source": [
        "# remove an item or value from the list.\n",
        "friends = [\"Junaid\", \"Fahad\", \"Usaid\", \"Musaib\", \"Hamza\"]\n",
        "# remove Hamza from the list\n",
        "friends.remove(\"Hamza\")\n",
        "print(friends)"
      ],
      "metadata": {
        "colab": {
          "base_uri": "https://localhost:8080/"
        },
        "id": "XngLbnwNIg8_",
        "outputId": "696d4206-4a16-4d01-db6f-31316516fe83"
      },
      "execution_count": null,
      "outputs": [
        {
          "output_type": "stream",
          "name": "stdout",
          "text": [
            "['Junaid', 'Fahad', 'Usaid', 'Musaib']\n"
          ]
        }
      ]
    },
    {
      "cell_type": "code",
      "source": [
        "# Get rid of each value or item from the list or remove every value.\n",
        "friends = [\"Junaid\", \"Fahad\", \"Usaid\", \"Musaib\", \"Hamza\"]\n",
        "friends.clear()\n",
        "print(friends)"
      ],
      "metadata": {
        "colab": {
          "base_uri": "https://localhost:8080/"
        },
        "id": "KGrt72q9JFtK",
        "outputId": "386fc19f-4361-4a9c-a140-f35d1c5f20b0"
      },
      "execution_count": null,
      "outputs": [
        {
          "output_type": "stream",
          "name": "stdout",
          "text": [
            "[]\n"
          ]
        }
      ]
    },
    {
      "cell_type": "code",
      "source": [
        "# pop an item from the list using pop function.\n",
        "# it get rid of the last element inside the list.\n",
        "friends = [\"Junaid\", \"Fahad\", \"Usaid\", \"Musaib\", \"Hamza\"]\n",
        "friends.pop()\n",
        "print(friends)"
      ],
      "metadata": {
        "colab": {
          "base_uri": "https://localhost:8080/"
        },
        "id": "6xIPXSFfJnVv",
        "outputId": "1a6f6184-dc57-4fda-9ba0-961dbf489564"
      },
      "execution_count": null,
      "outputs": [
        {
          "output_type": "stream",
          "name": "stdout",
          "text": [
            "['Junaid', 'Fahad', 'Usaid', 'Musaib']\n"
          ]
        }
      ]
    },
    {
      "cell_type": "code",
      "source": [
        "# figure out certain value or element in the list. See if my friend Usaid was on the list.\n",
        "\n",
        "friends = [\"Junaid\", \"Fahad\", \"Usaid\", \"Musaib\", \"Hamza\"]\n",
        "print(friends.index(\"Usaid\")) #It will give the index number of an item or value.\n",
        "\n",
        "# see what happens if a friend's name is not on the list.\n",
        "print(friends.index(\"Hyder\")) # we will get the error."
      ],
      "metadata": {
        "colab": {
          "base_uri": "https://localhost:8080/",
          "height": 193
        },
        "id": "Dbt93qjlKXj8",
        "outputId": "6381ba40-091f-44cf-fa51-30cdfc15770e"
      },
      "execution_count": null,
      "outputs": [
        {
          "output_type": "stream",
          "name": "stdout",
          "text": [
            "2\n"
          ]
        },
        {
          "output_type": "error",
          "ename": "ValueError",
          "evalue": "'Hyder' is not in list",
          "traceback": [
            "\u001b[0;31m---------------------------------------------------------------------------\u001b[0m",
            "\u001b[0;31mValueError\u001b[0m                                Traceback (most recent call last)",
            "\u001b[0;32m<ipython-input-26-d112cae866bf>\u001b[0m in \u001b[0;36m<cell line: 0>\u001b[0;34m()\u001b[0m\n\u001b[1;32m      5\u001b[0m \u001b[0;34m\u001b[0m\u001b[0m\n\u001b[1;32m      6\u001b[0m \u001b[0;31m# see what happens if a friend's name is not on the list.\u001b[0m\u001b[0;34m\u001b[0m\u001b[0;34m\u001b[0m\u001b[0m\n\u001b[0;32m----> 7\u001b[0;31m \u001b[0mprint\u001b[0m\u001b[0;34m(\u001b[0m\u001b[0mfriends\u001b[0m\u001b[0;34m.\u001b[0m\u001b[0mindex\u001b[0m\u001b[0;34m(\u001b[0m\u001b[0;34m\"Hyder\"\u001b[0m\u001b[0;34m)\u001b[0m\u001b[0;34m)\u001b[0m\u001b[0;34m\u001b[0m\u001b[0;34m\u001b[0m\u001b[0m\n\u001b[0m",
            "\u001b[0;31mValueError\u001b[0m: 'Hyder' is not in list"
          ]
        }
      ]
    },
    {
      "cell_type": "code",
      "source": [
        "# Sort the list.\n",
        "# it will sort the list in ascending order or an alphbetical order.It will arrange the list in order.\n",
        "friends = [\"Junaid\", \"Fahad\", \"Usaid\", \"Musaib\", \"Hamza\"]\n",
        "lucky_numbers = [4, 8, 15, 16, 23, 21]\n",
        "friends.sort()\n",
        "lucky_numbers.sort()\n",
        "print(friends)\n",
        "print(lucky_numbers)\n",
        "\n"
      ],
      "metadata": {
        "id": "mE2LxTlpPSbL",
        "colab": {
          "base_uri": "https://localhost:8080/"
        },
        "outputId": "c6a8159b-0748-4994-a07f-2fb31ed636ac"
      },
      "execution_count": 27,
      "outputs": [
        {
          "output_type": "stream",
          "name": "stdout",
          "text": [
            "['Fahad', 'Hamza', 'Junaid', 'Musaib', 'Usaid']\n",
            "[4, 8, 15, 16, 21, 23]\n"
          ]
        }
      ]
    },
    {
      "cell_type": "code",
      "source": [
        "# reverse the order of the values in the list\n",
        "friends = [\"Junaid\", \"Fahad\", \"Usaid\", \"Musaib\", \"Hamza\"]\n",
        "lucky_numbers = [4, 8, 15, 16, 23, 21]\n",
        "friends.reverse()\n",
        "lucky_numbers.reverse()\n",
        "print(friends)\n",
        "print(lucky_numbers)"
      ],
      "metadata": {
        "colab": {
          "base_uri": "https://localhost:8080/"
        },
        "id": "jmKEBUYydLth",
        "outputId": "b8dbaac9-8108-4dc6-efa8-cd086efca77b"
      },
      "execution_count": 29,
      "outputs": [
        {
          "output_type": "stream",
          "name": "stdout",
          "text": [
            "['Hamza', 'Musaib', 'Usaid', 'Fahad', 'Junaid']\n",
            "[21, 23, 16, 15, 8, 4]\n"
          ]
        }
      ]
    },
    {
      "cell_type": "code",
      "source": [
        "# copy the list using copy function. It will basically make the copy of the list.\n",
        "friends = [\"Junaid\", \"Fahad\", \"Usaid\", \"Musaib\", \"Hamza\"]\n",
        "best_friends = friends.copy()\n",
        "print(best_friends)"
      ],
      "metadata": {
        "colab": {
          "base_uri": "https://localhost:8080/"
        },
        "id": "fUPXNn96eIs5",
        "outputId": "a176a473-9a86-41a1-adc1-8f0a83ebd564"
      },
      "execution_count": 30,
      "outputs": [
        {
          "output_type": "stream",
          "name": "stdout",
          "text": [
            "['Junaid', 'Fahad', 'Usaid', 'Musaib', 'Hamza']\n"
          ]
        }
      ]
    }
  ]
}