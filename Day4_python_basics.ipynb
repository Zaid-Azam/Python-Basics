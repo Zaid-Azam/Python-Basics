{
  "nbformat": 4,
  "nbformat_minor": 0,
  "metadata": {
    "colab": {
      "provenance": [],
      "authorship_tag": "ABX9TyNVXJBuIPgJ+YQ72Z7cFc7K",
      "include_colab_link": true
    },
    "kernelspec": {
      "name": "python3",
      "display_name": "Python 3"
    },
    "language_info": {
      "name": "python"
    }
  },
  "cells": [
    {
      "cell_type": "markdown",
      "metadata": {
        "id": "view-in-github",
        "colab_type": "text"
      },
      "source": [
        "<a href=\"https://colab.research.google.com/github/Zaid-Azam/Python-Basics/blob/main/Day4_python_basics.ipynb\" target=\"_parent\"><img src=\"https://colab.research.google.com/assets/colab-badge.svg\" alt=\"Open In Colab\"/></a>"
      ]
    },
    {
      "cell_type": "markdown",
      "source": [
        "# **Working with numbers in python:**"
      ],
      "metadata": {
        "id": "u4KlM3g_mZCz"
      }
    },
    {
      "cell_type": "code",
      "source": [
        "# print any number.\n",
        "print(12)\n",
        "\n",
        "# print any decimal number.\n",
        "print(12.57)\n"
      ],
      "metadata": {
        "colab": {
          "base_uri": "https://localhost:8080/"
        },
        "id": "b-WWa9flmssw",
        "outputId": "d75afa1f-c76b-43a1-9497-53264c9138d9"
      },
      "execution_count": 58,
      "outputs": [
        {
          "output_type": "stream",
          "name": "stdout",
          "text": [
            "12\n",
            "12.57\n"
          ]
        }
      ]
    },
    {
      "cell_type": "code",
      "source": [
        "# perform basic arthematic operations on any two numbers.\n",
        "# addition: add 17 and 15\n",
        "print(17 + 15)\n",
        "\n",
        "# subtraction: subtract 13 from 9\n",
        "print(13 - 9)\n",
        "\n",
        "# Multiplication: multiply 11 and 17\n",
        "print(11 * 17)\n",
        "\n",
        "# Division: devide 12 by 6\n",
        "print(12 / 6)"
      ],
      "metadata": {
        "colab": {
          "base_uri": "https://localhost:8080/"
        },
        "id": "U93oes2enJOC",
        "outputId": "218249e2-4825-435c-dc4f-0941f3ab0c64"
      },
      "execution_count": 59,
      "outputs": [
        {
          "output_type": "stream",
          "name": "stdout",
          "text": [
            "32\n",
            "4\n",
            "187\n",
            "2.0\n"
          ]
        }
      ]
    },
    {
      "cell_type": "code",
      "source": [
        "# specify order of operation.\n",
        "print(7 * 8 + 6)\n",
        "\n",
        "# now using paranthesis to specify order of operations\n",
        "print(7 * (8 + 6))"
      ],
      "metadata": {
        "colab": {
          "base_uri": "https://localhost:8080/"
        },
        "id": "wyeIZBG3o7zv",
        "outputId": "eb836bf7-5916-450a-f696-c37703fac344"
      },
      "execution_count": 60,
      "outputs": [
        {
          "output_type": "stream",
          "name": "stdout",
          "text": [
            "62\n",
            "98\n"
          ]
        }
      ]
    },
    {
      "cell_type": "code",
      "source": [
        "# using modulus operator (%) (also called mod) to get remainder in the division\n",
        "print(17 % 5)"
      ],
      "metadata": {
        "colab": {
          "base_uri": "https://localhost:8080/"
        },
        "id": "Q4CqXyevpwoN",
        "outputId": "95a8d24c-801e-4278-a11d-4c1b843cd98b"
      },
      "execution_count": 61,
      "outputs": [
        {
          "output_type": "stream",
          "name": "stdout",
          "text": [
            "2\n"
          ]
        }
      ]
    },
    {
      "cell_type": "code",
      "source": [
        "# using variables finding remainder\n",
        "x = 17\n",
        "y = 5\n",
        "print(x % y)"
      ],
      "metadata": {
        "colab": {
          "base_uri": "https://localhost:8080/"
        },
        "id": "tQZn5ITrqIcv",
        "outputId": "ed1e851e-6dc6-49d3-974c-e4a8ecb33ef4"
      },
      "execution_count": 62,
      "outputs": [
        {
          "output_type": "stream",
          "name": "stdout",
          "text": [
            "2\n"
          ]
        }
      ]
    },
    {
      "cell_type": "code",
      "source": [
        "# coverting number into string.\n",
        "num = 15\n",
        "print(str(num))"
      ],
      "metadata": {
        "colab": {
          "base_uri": "https://localhost:8080/"
        },
        "id": "gxDVKhn7qymJ",
        "outputId": "60a251a8-0740-4a64-a7f6-d9a0a8b3ef8e"
      },
      "execution_count": 63,
      "outputs": [
        {
          "output_type": "stream",
          "name": "stdout",
          "text": [
            "15\n"
          ]
        }
      ]
    },
    {
      "cell_type": "markdown",
      "source": [
        "Note that we use this function to print a number along with a string. If we directly print a number with the string we will get error in our code."
      ],
      "metadata": {
        "id": "HaGY2iKtrC7Y"
      }
    },
    {
      "cell_type": "code",
      "source": [
        "# print number and string together\n",
        "num = 24\n",
        "print(\"My favourite number is \" + str(num) +\".\")"
      ],
      "metadata": {
        "colab": {
          "base_uri": "https://localhost:8080/"
        },
        "id": "STnBTqPir05N",
        "outputId": "726fafbb-b2cd-455c-c8a5-11c1ff54186a"
      },
      "execution_count": 64,
      "outputs": [
        {
          "output_type": "stream",
          "name": "stdout",
          "text": [
            "My favourite number is 24.\n"
          ]
        }
      ]
    },
    {
      "cell_type": "code",
      "source": [
        "# see if it can directly print a number and string together without using function str()\n",
        "num = 24\n",
        "print(\"My favourite number is \" + num +\".\")\n",
        "\n",
        "# here, we get the following error."
      ],
      "metadata": {
        "colab": {
          "base_uri": "https://localhost:8080/",
          "height": 211
        },
        "collapsed": true,
        "id": "RX3xsvljsVjE",
        "outputId": "60ba0522-b4a7-401d-e482-bd1e092e9fdc"
      },
      "execution_count": 65,
      "outputs": [
        {
          "output_type": "error",
          "ename": "TypeError",
          "evalue": "can only concatenate str (not \"int\") to str",
          "traceback": [
            "\u001b[0;31m---------------------------------------------------------------------------\u001b[0m",
            "\u001b[0;31mTypeError\u001b[0m                                 Traceback (most recent call last)",
            "\u001b[0;32m<ipython-input-65-b468dbbf2b12>\u001b[0m in \u001b[0;36m<cell line: 0>\u001b[0;34m()\u001b[0m\n\u001b[1;32m      1\u001b[0m \u001b[0;31m# see if it can directly print a number and string together without using function str()\u001b[0m\u001b[0;34m\u001b[0m\u001b[0;34m\u001b[0m\u001b[0m\n\u001b[1;32m      2\u001b[0m \u001b[0mnum\u001b[0m \u001b[0;34m=\u001b[0m \u001b[0;36m24\u001b[0m\u001b[0;34m\u001b[0m\u001b[0;34m\u001b[0m\u001b[0m\n\u001b[0;32m----> 3\u001b[0;31m \u001b[0mprint\u001b[0m\u001b[0;34m(\u001b[0m\u001b[0;34m\"My favourite number is \"\u001b[0m \u001b[0;34m+\u001b[0m \u001b[0mnum\u001b[0m \u001b[0;34m+\u001b[0m\u001b[0;34m\".\"\u001b[0m\u001b[0;34m)\u001b[0m\u001b[0;34m\u001b[0m\u001b[0;34m\u001b[0m\u001b[0m\n\u001b[0m\u001b[1;32m      4\u001b[0m \u001b[0;34m\u001b[0m\u001b[0m\n\u001b[1;32m      5\u001b[0m \u001b[0;31m# here, we get the error.\u001b[0m\u001b[0;34m\u001b[0m\u001b[0;34m\u001b[0m\u001b[0m\n",
            "\u001b[0;31mTypeError\u001b[0m: can only concatenate str (not \"int\") to str"
          ]
        }
      ]
    },
    {
      "cell_type": "markdown",
      "source": [
        "**Some common/basic math function:**"
      ],
      "metadata": {
        "id": "06VSiWHttEJL"
      }
    },
    {
      "cell_type": "code",
      "source": [
        "# using absolute function 'abs()', find absolute value of '-14'\n",
        "print(abs(-14))"
      ],
      "metadata": {
        "colab": {
          "base_uri": "https://localhost:8080/"
        },
        "id": "t8ZuqNlmtWVk",
        "outputId": "e9912c4e-9472-47b1-96fc-8b370a07867c"
      },
      "execution_count": 66,
      "outputs": [
        {
          "output_type": "stream",
          "name": "stdout",
          "text": [
            "14\n"
          ]
        }
      ]
    },
    {
      "cell_type": "code",
      "source": [
        " # using power function 'pow()', find value of 3 exponent 2.\n",
        " print(pow(3, 2))\n",
        "\n",
        "# also find 2 exponent 3.\n",
        "print(pow(2, 3))"
      ],
      "metadata": {
        "colab": {
          "base_uri": "https://localhost:8080/"
        },
        "id": "hIyaK-KIwVZZ",
        "outputId": "a10711fe-16f4-4345-ec14-047280fac8b3"
      },
      "execution_count": 67,
      "outputs": [
        {
          "output_type": "stream",
          "name": "stdout",
          "text": [
            "9.0\n",
            "8.0\n"
          ]
        }
      ]
    },
    {
      "cell_type": "code",
      "source": [
        "# geting the biggest number using max function 'max()'.\n",
        "print(max(4, 6, 8, 10, 12))"
      ],
      "metadata": {
        "colab": {
          "base_uri": "https://localhost:8080/"
        },
        "id": "ceTqPdFTxoEq",
        "outputId": "86c2daa3-eb9b-43aa-9482-9745e222607f"
      },
      "execution_count": 68,
      "outputs": [
        {
          "output_type": "stream",
          "name": "stdout",
          "text": [
            "12\n"
          ]
        }
      ]
    },
    {
      "cell_type": "code",
      "source": [
        "# geting the smallest number using function 'min()'.\n",
        "print(min(4, 6, 8, 10, 12))"
      ],
      "metadata": {
        "colab": {
          "base_uri": "https://localhost:8080/"
        },
        "id": "l1b9ABP4yGdG",
        "outputId": "cacebfbe-b457-489c-affc-894731250a88"
      },
      "execution_count": 69,
      "outputs": [
        {
          "output_type": "stream",
          "name": "stdout",
          "text": [
            "4\n"
          ]
        }
      ]
    },
    {
      "cell_type": "code",
      "source": [
        "# rounding of data using function 'round()'.\n",
        "print(round(4.7))\n",
        "print(round(4.4))\n",
        "print(round(4.5))\n",
        "print(round(3.5))"
      ],
      "metadata": {
        "colab": {
          "base_uri": "https://localhost:8080/"
        },
        "id": "_k8PDNi5ylwT",
        "outputId": "c4317d5b-9bbf-4392-9829-eb8f27ba6351"
      },
      "execution_count": 70,
      "outputs": [
        {
          "output_type": "stream",
          "name": "stdout",
          "text": [
            "5\n",
            "4\n",
            "4\n",
            "4\n"
          ]
        }
      ]
    },
    {
      "cell_type": "code",
      "source": [
        "# write all in single print function.\n",
        "print(round(4.7), round(4.4), round(4.5), round(3.5), round(5.5))"
      ],
      "metadata": {
        "colab": {
          "base_uri": "https://localhost:8080/"
        },
        "id": "D-SBwYMXzglk",
        "outputId": "c310a478-0fe1-4447-de2c-f3f30d55a30e"
      },
      "execution_count": 71,
      "outputs": [
        {
          "output_type": "stream",
          "name": "stdout",
          "text": [
            "5 4 4 4 6\n"
          ]
        }
      ]
    },
    {
      "cell_type": "markdown",
      "source": [
        "To access specific fuctions we have to import python math using code:\n",
        "\n",
        "\n",
        "\n",
        "```\n",
        "from math import *\n",
        "```\n",
        "\n",
        "\n",
        "\n"
      ],
      "metadata": {
        "id": "C7dDMcVN1ZhH"
      }
    },
    {
      "cell_type": "code",
      "source": [
        "# use code : from math import * also with that using some functions.\n",
        "\n",
        "from math import *\n",
        "\n",
        "# floor function: It grabs the lowest value/number\n",
        "print(floor(3.7))\n",
        "print(floor(3.4))\n",
        "# ceil function: It grabs the highest value/numbe. Whatever the value would be it will always give the highest number.\n",
        "print(ceil(3.7))\n",
        "print(ceil(3.4))\n",
        "# sqrt function: It will give the square root of the given value.\n",
        "print(sqrt(36))\n",
        "print(sqrt(25))\n"
      ],
      "metadata": {
        "colab": {
          "base_uri": "https://localhost:8080/"
        },
        "id": "gN_Iu61P2DPi",
        "outputId": "2653f7fa-b50b-4f19-9dbd-d6bb9cd5c82e"
      },
      "execution_count": 72,
      "outputs": [
        {
          "output_type": "stream",
          "name": "stdout",
          "text": [
            "3\n",
            "3\n",
            "4\n",
            "4\n",
            "6.0\n",
            "5.0\n"
          ]
        }
      ]
    }
  ]
}