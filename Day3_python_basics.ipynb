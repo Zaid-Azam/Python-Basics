{
  "nbformat": 4,
  "nbformat_minor": 0,
  "metadata": {
    "colab": {
      "provenance": [],
      "authorship_tag": "ABX9TyONZ8HPPHEy6PWglBYHP3Hg",
      "include_colab_link": true
    },
    "kernelspec": {
      "name": "python3",
      "display_name": "Python 3"
    },
    "language_info": {
      "name": "python"
    }
  },
  "cells": [
    {
      "cell_type": "markdown",
      "metadata": {
        "id": "view-in-github",
        "colab_type": "text"
      },
      "source": [
        "<a href=\"https://colab.research.google.com/github/Zaid-Azam/Python-Basics/blob/main/Day3_python_basics.ipynb\" target=\"_parent\"><img src=\"https://colab.research.google.com/assets/colab-badge.svg\" alt=\"Open In Colab\"/></a>"
      ]
    },
    {
      "cell_type": "markdown",
      "source": [
        "# **Working With Strings:**"
      ],
      "metadata": {
        "id": "WaSadkU5vVLn"
      }
    },
    {
      "cell_type": "code",
      "execution_count": null,
      "metadata": {
        "colab": {
          "base_uri": "https://localhost:8080/"
        },
        "id": "f9CN18Ksuv1l",
        "outputId": "3f4027e0-2e43-4ad5-f575-7242ab8165cb"
      },
      "outputs": [
        {
          "output_type": "stream",
          "name": "stdout",
          "text": [
            "Google Academy\n"
          ]
        }
      ],
      "source": [
        "# print a string\n",
        "print(\"Google Academy\")"
      ]
    },
    {
      "cell_type": "code",
      "source": [
        "# add new line within the string\n",
        "print(\"Google\\nAcademy\")"
      ],
      "metadata": {
        "colab": {
          "base_uri": "https://localhost:8080/"
        },
        "id": "49MZadXgvybg",
        "outputId": "92987cef-21ed-4a9b-84f1-018b657d4c79"
      },
      "execution_count": null,
      "outputs": [
        {
          "output_type": "stream",
          "name": "stdout",
          "text": [
            "Google\n",
            "Academy\n"
          ]
        }
      ]
    },
    {
      "cell_type": "code",
      "source": [
        "# add quotation mark at the end of word \"Google\"\n",
        "# for quotation marks within the string we have use '\\' then add \" mark.\n",
        "print(\"Google\\\" Academy\")"
      ],
      "metadata": {
        "colab": {
          "base_uri": "https://localhost:8080/"
        },
        "id": "AtJHUSiowBh9",
        "outputId": "5b9ba401-c414-4c55-954a-4993fd9ebe37"
      },
      "execution_count": null,
      "outputs": [
        {
          "output_type": "stream",
          "name": "stdout",
          "text": [
            "Google\" Academy\n"
          ]
        }
      ]
    },
    {
      "cell_type": "code",
      "source": [
        "# add any thing else in the string\n",
        "print(\"Google\\Academy\")\n",
        "print(\"Google-Academy\")\n",
        "print(\"Google_Academy\")"
      ],
      "metadata": {
        "colab": {
          "base_uri": "https://localhost:8080/"
        },
        "id": "qFt52mWjwqLq",
        "outputId": "afabe9a0-9545-4e03-bc3e-21c38bd13204"
      },
      "execution_count": null,
      "outputs": [
        {
          "output_type": "stream",
          "name": "stdout",
          "text": [
            "Google\\Academy\n",
            "Google-Academy\n",
            "Google_Academy\n"
          ]
        }
      ]
    },
    {
      "cell_type": "markdown",
      "source": [
        "**Concatenation:**\n",
        "It is simply the appending one string with another."
      ],
      "metadata": {
        "id": "MMPU8qKexxWk"
      }
    },
    {
      "cell_type": "code",
      "source": [
        "# first add variable for 'Google Academy'\n",
        "institute = \"Google Academy\"\n",
        "# now, add another string ' is expensive.'\n",
        "print(institute + \" is expensive.\")\n",
        "# Do not use quotation marks around variable names when you want to access their values."
      ],
      "metadata": {
        "colab": {
          "base_uri": "https://localhost:8080/"
        },
        "id": "2vqFV07NxEe8",
        "outputId": "a24f6c39-8b99-441f-eb7c-58a2f838ed87"
      },
      "execution_count": null,
      "outputs": [
        {
          "output_type": "stream",
          "name": "stdout",
          "text": [
            "Google Academy is expensive.\n"
          ]
        }
      ]
    },
    {
      "cell_type": "markdown",
      "source": [
        " **Some common functions to use with the strings:**"
      ],
      "metadata": {
        "id": "qFSXvDvz18r-"
      }
    },
    {
      "cell_type": "code",
      "source": [
        "# write the string in lower case using function 'lower()'\n",
        "inst = \"Google Academy\"\n",
        "print(inst.lower())"
      ],
      "metadata": {
        "colab": {
          "base_uri": "https://localhost:8080/"
        },
        "id": "QvEvAKXg2JzZ",
        "outputId": "5dd7e7ea-5690-474c-e202-fb377d2b3f42"
      },
      "execution_count": null,
      "outputs": [
        {
          "output_type": "stream",
          "name": "stdout",
          "text": [
            "google academy\n"
          ]
        }
      ]
    },
    {
      "cell_type": "code",
      "source": [
        "# write the string in upper case using function 'upper()'\n",
        "inst = \"Google Academy\"\n",
        "print(inst.upper())"
      ],
      "metadata": {
        "colab": {
          "base_uri": "https://localhost:8080/"
        },
        "id": "HEQWimPT2z6F",
        "outputId": "1f54a153-b654-4fdd-e235-0b63643e105e"
      },
      "execution_count": null,
      "outputs": [
        {
          "output_type": "stream",
          "name": "stdout",
          "text": [
            "GOOGLE ACADEMY\n"
          ]
        }
      ]
    },
    {
      "cell_type": "code",
      "source": [
        "# see if the string is entirely uppercase\n",
        "inst = \"Google Academy\"\n",
        "print(inst.isupper())"
      ],
      "metadata": {
        "colab": {
          "base_uri": "https://localhost:8080/"
        },
        "id": "2cee6T8I3P24",
        "outputId": "daa1b814-06f7-4af6-9478-8b4ae1b523e6"
      },
      "execution_count": null,
      "outputs": [
        {
          "output_type": "stream",
          "name": "stdout",
          "text": [
            "False\n"
          ]
        }
      ]
    },
    {
      "cell_type": "code",
      "source": [
        "# see if the string is entirely lowercase\n",
        "inst = \"Google Academy\"\n",
        "print(inst.islower())"
      ],
      "metadata": {
        "colab": {
          "base_uri": "https://localhost:8080/"
        },
        "id": "oDMTyyoY5V1Y",
        "outputId": "89e265b0-48b5-4368-f0b1-f20c8acaadc8"
      },
      "execution_count": null,
      "outputs": [
        {
          "output_type": "stream",
          "name": "stdout",
          "text": [
            "False\n"
          ]
        }
      ]
    },
    {
      "cell_type": "code",
      "source": [
        "# see if the string is upper case which actually is not. Instead of this also make it true.\n",
        "# trick: make the string entirely upper case then find if its true.\n",
        "inst = \"Google Academy\" # here its not entirely in upper case\n",
        "print(inst.upper().isupper())"
      ],
      "metadata": {
        "colab": {
          "base_uri": "https://localhost:8080/"
        },
        "id": "qs0Sj1sN5hC3",
        "outputId": "11338259-455f-4bb6-abd4-f48b6a12ffbf"
      },
      "execution_count": null,
      "outputs": [
        {
          "output_type": "stream",
          "name": "stdout",
          "text": [
            "True\n"
          ]
        }
      ]
    },
    {
      "cell_type": "code",
      "source": [
        "# find the number of characters in the string\n",
        "print(len(\"My name is Zaid Azam.\"))"
      ],
      "metadata": {
        "colab": {
          "base_uri": "https://localhost:8080/"
        },
        "id": "Nk0068QJ6_gG",
        "outputId": "9b3cfbab-4a6f-4f51-d8b5-133ce603f9be"
      },
      "execution_count": null,
      "outputs": [
        {
          "output_type": "stream",
          "name": "stdout",
          "text": [
            "21\n"
          ]
        }
      ]
    },
    {
      "cell_type": "code",
      "source": [
        "# assigining variable 'name'\n",
        "name = \"My name is Zaid Azam.\"\n",
        "print(len(name))"
      ],
      "metadata": {
        "colab": {
          "base_uri": "https://localhost:8080/"
        },
        "id": "tKPRO1vt_CeA",
        "outputId": "1d567fdd-042f-4d48-84ee-7f4f89c61df9"
      },
      "execution_count": null,
      "outputs": [
        {
          "output_type": "stream",
          "name": "stdout",
          "text": [
            "21\n"
          ]
        }
      ]
    },
    {
      "cell_type": "code",
      "source": [
        "# get individual character's sequence number in the string.\n",
        "# find the first character in the string.\n",
        "name = \"My name is Zaid Azam.\"\n",
        "print(name[0])\n",
        "# also find which number of character is 'Z'\n",
        "print(name.index(\"Z\"))\n",
        "# Note that Python uses zero-based indexing, meaning the first character is at position 0, the second at position 1, and so on.\n",
        "# Also note that according to python's indexing system space is also counted in index number."
      ],
      "metadata": {
        "id": "YF2IUNYW_pWx",
        "outputId": "081add8e-188b-49ae-8a02-faf43849a3d5",
        "colab": {
          "base_uri": "https://localhost:8080/"
        }
      },
      "execution_count": null,
      "outputs": [
        {
          "output_type": "stream",
          "name": "stdout",
          "text": [
            "M\n",
            "11\n"
          ]
        }
      ]
    }
  ]
}