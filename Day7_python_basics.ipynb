{
  "nbformat": 4,
  "nbformat_minor": 0,
  "metadata": {
    "colab": {
      "provenance": [],
      "authorship_tag": "ABX9TyPkO9BpWrFD5Isp3Wht8/wD",
      "include_colab_link": true
    },
    "kernelspec": {
      "name": "python3",
      "display_name": "Python 3"
    },
    "language_info": {
      "name": "python"
    }
  },
  "cells": [
    {
      "cell_type": "markdown",
      "metadata": {
        "id": "view-in-github",
        "colab_type": "text"
      },
      "source": [
        "<a href=\"https://colab.research.google.com/github/Zaid-Azam/Python-Basics/blob/main/Day7_python_basics.ipynb\" target=\"_parent\"><img src=\"https://colab.research.google.com/assets/colab-badge.svg\" alt=\"Open In Colab\"/></a>"
      ]
    },
    {
      "cell_type": "markdown",
      "source": [
        "# **If Statements:**\n",
        "*   Special structures in python,\n",
        "*   Help our program to make decisions.\n",
        "*   Execute certain code when certain conditions are true.\n",
        "*   Allow the programs to respond to the input that they are given.\n",
        "* Example from real life:\n",
        "\n",
        " I leave my house  \n",
        " if it's cloudy  \n",
        "         I bring an Umbrella   \n",
        " otherwise  \n",
        "         I bring sunglasses\n",
        "\n",
        "\n",
        "\n",
        "\n",
        "\n",
        "\n",
        "\n",
        "\n",
        "\n",
        "\n",
        "\n"
      ],
      "metadata": {
        "id": "w0jomDZpi8mN"
      }
    },
    {
      "cell_type": "code",
      "execution_count": null,
      "metadata": {
        "colab": {
          "base_uri": "https://localhost:8080/"
        },
        "id": "FdHwFMYNi2Q7",
        "outputId": "148ce45b-be88-4644-c3b7-0fe15a0912c9"
      },
      "outputs": [
        {
          "output_type": "stream",
          "name": "stdout",
          "text": [
            "You are a male.\n"
          ]
        }
      ],
      "source": [
        "# create a basic if statement using boolean variable\n",
        "\n",
        "is_male = True\n",
        "\n",
        "if is_male:\n",
        "  print(\"You are a male.\")\n",
        "else:\n",
        "  print(\"You are not a male.\")\n"
      ]
    },
    {
      "cell_type": "code",
      "source": [
        "is_male = False\n",
        "\n",
        "if is_male:\n",
        "  print(\"You are a male.\")\n",
        "else:\n",
        "  print(\"You are not a male.\")"
      ],
      "metadata": {
        "colab": {
          "base_uri": "https://localhost:8080/"
        },
        "id": "St8T1htOp1P-",
        "outputId": "a42aed47-0e33-41ea-ca9a-e4c7db49d845"
      },
      "execution_count": null,
      "outputs": [
        {
          "output_type": "stream",
          "name": "stdout",
          "text": [
            "You are not a male.\n"
          ]
        }
      ]
    },
    {
      "cell_type": "code",
      "source": [
        "# Use another boolean variable, let's use 'is_tall'.\n",
        "\n",
        "is_female = True\n",
        "is_tall = True\n",
        "\n",
        "if is_female or is_tall:\n",
        "  print(\"You are a female and a tall one.\")\n",
        "else:\n",
        "  print(\"You are not a female and not tall.\")"
      ],
      "metadata": {
        "colab": {
          "base_uri": "https://localhost:8080/"
        },
        "id": "t8dPspQLqttO",
        "outputId": "7fdd3458-fb29-4b5d-c0e4-b5b3fb027f93"
      },
      "execution_count": null,
      "outputs": [
        {
          "output_type": "stream",
          "name": "stdout",
          "text": [
            "You are a female and a tall one.\n"
          ]
        }
      ]
    },
    {
      "cell_type": "code",
      "source": [
        "is_female = True\n",
        "is_tall = False\n",
        "\n",
        "if is_female or is_tall:\n",
        "  print(\"You are a female and a tall one.\")\n",
        "else:\n",
        "  print(\"You are not a female and not tall.\")"
      ],
      "metadata": {
        "colab": {
          "base_uri": "https://localhost:8080/"
        },
        "id": "T-87HIDkq6dx",
        "outputId": "8c0008d5-b0c2-4ce8-abc1-a6599629c4bc"
      },
      "execution_count": null,
      "outputs": [
        {
          "output_type": "stream",
          "name": "stdout",
          "text": [
            "You are a female and a tall one.\n"
          ]
        }
      ]
    },
    {
      "cell_type": "code",
      "source": [
        "is_female = False\n",
        "is_tall = False\n",
        "\n",
        "if is_female or is_tall:\n",
        "  print(\"You are a female and a tall one.\")\n",
        "else:\n",
        "  print(\"You are not a female and not tall.\")"
      ],
      "metadata": {
        "colab": {
          "base_uri": "https://localhost:8080/"
        },
        "id": "EcQd9_bcrA8L",
        "outputId": "55691bb5-4de0-4245-c9b5-a6c5be0b78b9"
      },
      "execution_count": null,
      "outputs": [
        {
          "output_type": "stream",
          "name": "stdout",
          "text": [
            "You are not a female and not tall.\n"
          ]
        }
      ]
    },
    {
      "cell_type": "code",
      "source": [
        "# Use 'and' instead of 'or' and see the all possibilites by changing the variables\n",
        "\n",
        "# 1: make both conditins true\n",
        "\n",
        "is_female = True\n",
        "is_tall = True\n",
        "\n",
        "if is_female and is_tall:\n",
        "  print(\"You are a female and a tall one.\")\n",
        "elif is_female and not(is_tall):\n",
        "  print(\"You are a female and not tall.\")\n",
        "elif is_tall and not(is_female):\n",
        "  print(\"you are tall but not a female.\")\n",
        "else:\n",
        "  print(\"You are neither tall nor a female.\")\n",
        "\n",
        "# 2: make first conditin true and 2nd conditin false\n",
        "\n",
        "is_female = True\n",
        "is_tall = False\n",
        "\n",
        "if is_female and is_tall:\n",
        "  print(\"You are a female and a tall one.\")\n",
        "elif is_female and not(is_tall):\n",
        "  print(\"You are a female and not tall.\")\n",
        "elif is_tall and not(is_female):\n",
        "  print(\"you are tall but not a female.\")\n",
        "else:\n",
        "  print(\"You are neither tall nor a female.\")\n",
        "\n",
        "# 3: make first conditin false and 2nd conditin true\n",
        "\n",
        "is_female = False\n",
        "is_tall = True\n",
        "\n",
        "if is_female and is_tall:\n",
        "  print(\"You are a female and a tall one.\")\n",
        "elif is_female and not(is_tall):\n",
        "  print(\"You are a female and not tall.\")\n",
        "elif is_tall and not(is_female):\n",
        "  print(\"you are tall but not a female.\")\n",
        "else:\n",
        "  print(\"You are neither tall nor a female.\")\n",
        "\n",
        "# 4: make both conditions False\n",
        "\n",
        "is_female = False\n",
        "is_tall = False\n",
        "\n",
        "if is_female and is_tall:\n",
        "  print(\"You are a female and a tall one.\")\n",
        "elif is_female and not(is_tall):\n",
        "  print(\"You are a female and not tall.\")\n",
        "elif is_tall and not(is_female):\n",
        "  print(\"you are tall but not a female.\")\n",
        "else:\n",
        "  print(\"You are neither tall nor a female.\")"
      ],
      "metadata": {
        "colab": {
          "base_uri": "https://localhost:8080/"
        },
        "id": "mJQPtej8rICX",
        "outputId": "fd9050e9-7f06-475f-d419-aa9b6e50b20c"
      },
      "execution_count": null,
      "outputs": [
        {
          "output_type": "stream",
          "name": "stdout",
          "text": [
            "You are a female and a tall one.\n",
            "You are a female and not tall.\n",
            "you are tall but not a female.\n",
            "You are neither tall nor a female.\n"
          ]
        }
      ]
    },
    {
      "cell_type": "markdown",
      "source": [
        "# **If Statements and Comparisons:**\n",
        "*   **The Basic Comparison Operators:**\n",
        "1.   Greater than or equal to: >=\n",
        "2.   Less than or equal to: <=\n",
        "3.   Equal to: ==\n",
        "4.   not equals: !=\n",
        "5.   Greater than: >\n",
        "6.   Less than: <\n",
        "\n",
        "\n",
        "*   We can compare different data types such as numbers, strings, and booleans etc\n",
        "\n"
      ],
      "metadata": {
        "id": "fOHfSm-iuHON"
      }
    },
    {
      "cell_type": "code",
      "source": [
        "# Create a python function which give us the maximum number from the numbers given to that fucntion\n",
        "\n",
        "def max_num(num1, num2, num3, num4):\n",
        "  #using if statements\n",
        "  if num1>=num2 and num1>=num3 and num1>=num4:\n",
        "    return num1\n",
        "  elif num2>=num1 and num2>=num3 and num2>=num4:\n",
        "    return num2\n",
        "  elif num3>=num1 and num3>=num2 and num3>=num4:\n",
        "    return num3\n",
        "  else:\n",
        "    return num4\n",
        "\n",
        "# Calling the function\n",
        "print(max_num(33, 44, 66, 55))\n"
      ],
      "metadata": {
        "colab": {
          "base_uri": "https://localhost:8080/"
        },
        "id": "RnSWZcG5u9Fy",
        "outputId": "b3a631fc-4f17-47ae-8811-f614ba3307bf"
      },
      "execution_count": null,
      "outputs": [
        {
          "output_type": "stream",
          "name": "stdout",
          "text": [
            "66\n"
          ]
        }
      ]
    },
    {
      "cell_type": "code",
      "source": [
        "# Create a python function which give us the least number from the numbers given to that fucntion\n",
        "\n",
        "def least_num(num1, num2, num3):\n",
        "  if num1<=num2 and num1<=num3:\n",
        "    return num1\n",
        "  elif num2<=num1 and num2<=num3:\n",
        "    return num2\n",
        "  else:\n",
        "    return num3\n",
        "print(least_num(55, 33, 25))\n",
        "\n",
        "\n"
      ],
      "metadata": {
        "colab": {
          "base_uri": "https://localhost:8080/"
        },
        "id": "AYLNdsnx9Z55",
        "outputId": "c2a32a3b-f801-4ea0-9d96-fc26401840e5"
      },
      "execution_count": null,
      "outputs": [
        {
          "output_type": "stream",
          "name": "stdout",
          "text": [
            "25\n"
          ]
        }
      ]
    },
    {
      "cell_type": "markdown",
      "source": [
        "# **Building a calculator that performs four basic arthmetic operations**:"
      ],
      "metadata": {
        "id": "7yWkvI1-XuUY"
      }
    },
    {
      "cell_type": "code",
      "source": [
        "# Build a calculator that performs (+, -, *, /) between two numbers\n",
        "\n",
        "# S-1: ask the user about numbers and operation to perform\n",
        "num1 = float(input (\"WHat is the first number: \"))\n",
        "op = input(\"Enter operation sign you want to perform: \")\n",
        "num2 = float(input(\"What is the second number:\"))\n",
        "\n",
        "# S-2: Now use if statements and conditions according to user's different inputs\n",
        "\n",
        "if op == \"+\":\n",
        "  print(num1 + num2)\n",
        "elif op == \"-\":\n",
        "  print(num1 - num2)\n",
        "elif op == \"*\":\n",
        "  print(num1 * num2)\n",
        "elif op == \"/\":\n",
        "  print(num1 / num2)\n",
        "else:\n",
        "  print(\"Invalid operator\")\n"
      ],
      "metadata": {
        "colab": {
          "base_uri": "https://localhost:8080/"
        },
        "id": "B5JyMW6xX8hf",
        "outputId": "343ccb81-7c8a-4e9e-ebfd-5a657988a9b7"
      },
      "execution_count": null,
      "outputs": [
        {
          "output_type": "stream",
          "name": "stdout",
          "text": [
            "WHat is the first number: 34\n",
            "Enter operation sign you want to perform: /\n",
            "What is the second number:3\n",
            "11.333333333333334\n"
          ]
        }
      ]
    }
  ]
}